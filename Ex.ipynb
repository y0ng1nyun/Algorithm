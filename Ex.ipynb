{
  "nbformat": 4,
  "nbformat_minor": 0,
  "metadata": {
    "colab": {
      "name": "Greedy",
      "provenance": [],
      "collapsed_sections": [],
      "authorship_tag": "ABX9TyMG5AqW9bjgpmfUJgD5MZyd",
      "include_colab_link": true
    },
    "kernelspec": {
      "name": "python3",
      "display_name": "Python 3"
    },
    "language_info": {
      "name": "python"
    }
  },
  "cells": [
    {
      "cell_type": "markdown",
      "metadata": {
        "id": "view-in-github",
        "colab_type": "text"
      },
      "source": [
        "<a href=\"https://colab.research.google.com/github/y0ng1nyun/Algorithm/blob/main/Ex.ipynb\" target=\"_parent\"><img src=\"https://colab.research.google.com/assets/colab-badge.svg\" alt=\"Open In Colab\"/></a>"
      ]
    },
    {
      "cell_type": "markdown",
      "metadata": {
        "id": "VsNNCF2F6f1a"
      },
      "source": [
        "**Greedy - Guild**"
      ]
    },
    {
      "cell_type": "code",
      "metadata": {
        "id": "kekFLubd6drD"
      },
      "source": [
        "n = int(input())\n",
        "\n",
        "arr = list(map(int,input().split()))\n",
        "\n",
        "arr.sort()\n",
        "result = 0\n",
        "cnt = 0\n",
        "\n",
        "for num in arr:\n",
        "  cnt += 1\n",
        "  if cnt >= num:\n",
        "    result += 1\n",
        "    cnt = 0\n",
        "\n",
        "print(result)"
      ],
      "execution_count": null,
      "outputs": []
    },
    {
      "cell_type": "markdown",
      "metadata": {
        "id": "4z7UtyGE9mrU"
      },
      "source": [
        "**Greedy - * or +**"
      ]
    },
    {
      "cell_type": "code",
      "metadata": {
        "colab": {
          "base_uri": "https://localhost:8080/"
        },
        "id": "7D43eomB9plE",
        "outputId": "7f104787-edeb-4a99-afc7-bd9a8813364c"
      },
      "source": [
        "s = input()\n",
        "\n",
        "result = int(s[0])\n",
        "\n",
        "for i in range(len(s) - 1):\n",
        "  num = int(s[i+1])\n",
        "  if result == 0 or num == 0 or num == 1:\n",
        "    result += num\n",
        "  else:\n",
        "    result *= num\n",
        "\n",
        "print(result)"
      ],
      "execution_count": null,
      "outputs": [
        {
          "output_type": "stream",
          "text": [
            "30303\n",
            "27\n"
          ],
          "name": "stdout"
        }
      ]
    },
    {
      "cell_type": "markdown",
      "metadata": {
        "id": "Xc609tIbAWcy"
      },
      "source": [
        "**Greedy - String**"
      ]
    },
    {
      "cell_type": "code",
      "metadata": {
        "colab": {
          "base_uri": "https://localhost:8080/"
        },
        "id": "tsDtNIWeAWsa",
        "outputId": "e66aadf5-dcc3-4594-f589-3b8739ab4eaf"
      },
      "source": [
        "s = input()\n",
        "\n",
        "cnt = 0\n",
        "\n",
        "for i in range(len(s)-1):\n",
        "  num = int(s[i])\n",
        "  next_num = int(s[i+1])\n",
        "  # 앞에서 숫자가 바뀌는 상황만 생각\n",
        "  if num != 0 and next_num == 0:\n",
        "    cnt += 1\n",
        "  else:\n",
        "    continue\n",
        "\n",
        "print(cnt)\n"
      ],
      "execution_count": null,
      "outputs": [
        {
          "output_type": "stream",
          "text": [
            "101010011\n",
            "3\n"
          ],
          "name": "stdout"
        }
      ]
    },
    {
      "cell_type": "markdown",
      "metadata": {
        "id": "l2LFx1PtFu5o"
      },
      "source": [
        "**Greedy - Money**"
      ]
    },
    {
      "cell_type": "code",
      "metadata": {
        "colab": {
          "base_uri": "https://localhost:8080/"
        },
        "id": "v0MNqgaDFy0A",
        "outputId": "95aa5f9a-2c01-48ce-f0bf-275b516c9e44"
      },
      "source": [
        "n = int(input())\n",
        "coin_list = list(map(int,input().split()))\n",
        "\n",
        "coin_list.sort()\n",
        "\n",
        "result = 1\n",
        "\n",
        "for coin in coin_list:\n",
        "  if result < coin:\n",
        "    break\n",
        "  else:\n",
        "    result += coin\n",
        "\n",
        "print(result)"
      ],
      "execution_count": null,
      "outputs": [
        {
          "output_type": "stream",
          "text": [
            "4\n",
            "1 2 1 4\n",
            "9\n"
          ],
          "name": "stdout"
        }
      ]
    },
    {
      "cell_type": "markdown",
      "metadata": {
        "id": "6WJzEPnrI49l"
      },
      "source": [
        "**Greedy - Bowling**"
      ]
    },
    {
      "cell_type": "code",
      "metadata": {
        "colab": {
          "base_uri": "https://localhost:8080/"
        },
        "id": "0-CbCznjI_cE",
        "outputId": "ccd1b3dd-e1bf-4dff-e259-27fb3b2534bb"
      },
      "source": [
        "n,m = map(int,input().split())\n",
        "\n",
        "ball_list = list(map(int,input().split()))\n",
        "\n",
        "ball_list.sort()\n",
        "cnt = 0\n",
        "\n",
        "for i in range(0,len(ball_list)):\n",
        "  for j in range(i,len(ball_list)):\n",
        "    if ball_list[i] != ball_list[j]:\n",
        "      cnt += 1\n",
        "\n",
        "print(cnt)"
      ],
      "execution_count": null,
      "outputs": [
        {
          "output_type": "stream",
          "text": [
            "8 5\n",
            "1 5 4 3 2 4 5 2\n",
            "25\n"
          ],
          "name": "stdout"
        }
      ]
    },
    {
      "cell_type": "markdown",
      "metadata": {
        "id": "jkDab-8pMDLy"
      },
      "source": [
        "**Greedy - Live**"
      ]
    },
    {
      "cell_type": "markdown",
      "metadata": {
        "id": "Bev606NrMFc9"
      },
      "source": [
        ""
      ]
    }
  ]
}